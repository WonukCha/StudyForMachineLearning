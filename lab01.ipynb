{
 "cells": [
  {
   "cell_type": "code",
   "execution_count": 10,
   "metadata": {},
   "outputs": [
    {
     "name": "stdout",
     "output_type": "stream",
     "text": [
      "b'hello, tensorflow!!!'\n"
     ]
    }
   ],
   "source": [
    "import tensorflow as tf\n",
    "\n",
    "hello = tf.constant (\"hello, tensorflow!!!\")\n",
    "\n",
    "sess = tf.Session()\n",
    "\n",
    "print(sess.run(hello))\n"
   ]
  },
  {
   "cell_type": "code",
   "execution_count": 11,
   "metadata": {},
   "outputs": [
    {
     "name": "stdout",
     "output_type": "stream",
     "text": [
      "19\n"
     ]
    }
   ],
   "source": [
    "a = [38,21,53,62,19]\n",
    "print(a[-1])"
   ]
  },
  {
   "cell_type": "code",
   "execution_count": 12,
   "metadata": {},
   "outputs": [
    {
     "data": {
      "text/plain": [
       "38"
      ]
     },
     "execution_count": 12,
     "metadata": {},
     "output_type": "execute_result"
    }
   ],
   "source": [
    "a[0]"
   ]
  },
  {
   "cell_type": "code",
   "execution_count": 13,
   "metadata": {},
   "outputs": [
    {
     "name": "stdout",
     "output_type": "stream",
     "text": [
      "a[0] = 38 a[1] = 21\n"
     ]
    }
   ],
   "source": [
    "print(\"a[0] = {} a[1] = {}\".format(a[0],a[1]))"
   ]
  },
  {
   "cell_type": "code",
   "execution_count": 14,
   "metadata": {},
   "outputs": [
    {
     "data": {
      "text/plain": [
       "[10, 20, 30]"
      ]
     },
     "execution_count": 14,
     "metadata": {},
     "output_type": "execute_result"
    }
   ],
   "source": [
    "A = [10,20,\"Hello Python\", [10,20,30]]\n",
    "A.append([10,20,30])\n",
    "A[4]"
   ]
  },
  {
   "cell_type": "code",
   "execution_count": 15,
   "metadata": {},
   "outputs": [
    {
     "name": "stdout",
     "output_type": "stream",
     "text": [
      "['D', 'E']\n"
     ]
    }
   ],
   "source": [
    "name =[]\n",
    "name.append('A')\n",
    "name.append('B')\n",
    "name.append('C')\n",
    "name.append('D')\n",
    "name.append('E')\n",
    "name.append('F')\n",
    "\n",
    "print(name[-3:5])"
   ]
  },
  {
   "cell_type": "code",
   "execution_count": 16,
   "metadata": {},
   "outputs": [],
   "source": [
    "def xprint(label, x):\n",
    "    print('{} = '.format(label),end=' ')\n",
    "    for data in x:\n",
    "        print('{}'.format(data), end=' ')\n",
    "    print('\\n')"
   ]
  },
  {
   "cell_type": "code",
   "execution_count": 17,
   "metadata": {},
   "outputs": [
    {
     "name": "stdout",
     "output_type": "stream",
     "text": [
      "arr =  0 1 2 3 4 5 6 7 8 9 \n",
      "\n"
     ]
    }
   ],
   "source": [
    "arr = range(10)\n",
    "xprint('arr',arr)"
   ]
  },
  {
   "cell_type": "code",
   "execution_count": 18,
   "metadata": {},
   "outputs": [
    {
     "name": "stdout",
     "output_type": "stream",
     "text": [
      "[0, 1, 4, 9, 16]\n"
     ]
    }
   ],
   "source": [
    "listData = [x**2 for x in range(5)]\n",
    "print(listData)"
   ]
  },
  {
   "cell_type": "code",
   "execution_count": 19,
   "metadata": {},
   "outputs": [],
   "source": [
    "rawData = [['A',10],['B',20],['C',30],['D',40]]\n",
    "allData = [x for x in rawData]\n",
    "xData = [\n",
    "    x[0] for x in rawData]\n",
    "yData = [x[1] for x in rawData]"
   ]
  },
  {
   "cell_type": "code",
   "execution_count": 20,
   "metadata": {},
   "outputs": [
    {
     "name": "stdout",
     "output_type": "stream",
     "text": [
      "allData => [['A', 10], ['B', 20], ['C', 30], ['D', 40]]\n",
      "xData => ['A', 'B', 'C', 'D']\n",
      "yData => [10, 20, 30, 40]\n"
     ]
    }
   ],
   "source": [
    "print(\"allData =>\",allData)\n",
    "print(\"xData =>\",xData)\n",
    "print(\"yData =>\",yData)"
   ]
  },
  {
   "cell_type": "code",
   "execution_count": 21,
   "metadata": {},
   "outputs": [
    {
     "data": {
      "text/plain": [
       "[0, 1, 4, 9, 16]"
      ]
     },
     "execution_count": 21,
     "metadata": {},
     "output_type": "execute_result"
    }
   ],
   "source": [
    "map(lambda x: x**2,range(5))\n",
    "list(map(lambda x: x**2,range(5)))"
   ]
  },
  {
   "cell_type": "code",
   "execution_count": 22,
   "metadata": {},
   "outputs": [
    {
     "name": "stdout",
     "output_type": "stream",
     "text": [
      "a =>  10\n",
      "b =>  edcba\n"
     ]
    }
   ],
   "source": [
    "from functools import reduce\n",
    "\n",
    "a = reduce(lambda x, y: x+y,[0,1,2,3,4])\n",
    "print(\"a => \",a)\n",
    "b = reduce(lambda x,y: y+x,\"abcde\")\n",
    "print(\"b => \",b)"
   ]
  },
  {
   "cell_type": "code",
   "execution_count": 23,
   "metadata": {},
   "outputs": [
    {
     "data": {
      "text/plain": [
       "[0, 1, 2, 3, 4]"
      ]
     },
     "execution_count": 23,
     "metadata": {},
     "output_type": "execute_result"
    }
   ],
   "source": [
    "list(filter(lambda x : x<5,range(10)))"
   ]
  },
  {
   "cell_type": "code",
   "execution_count": 24,
   "metadata": {},
   "outputs": [],
   "source": [
    "class Person:\n",
    "    count = 0\n",
    "    def __init__(self,name,age):\n",
    "        self.name = name\n",
    "        self.age = age\n",
    "        Person.count =Person.count+1 \n",
    "    \n",
    "    def working(self,company):\n",
    "        print(self.name + \" is working in \"+ company)\n",
    "        \n",
    "    def agrs(self):\n",
    "        print(self.name+ \" is \",self.age ,\"years old\")\n",
    "    \n",
    "    @classmethod\n",
    "    def getCount(cls):\n",
    "        return cls.count"
   ]
  },
  {
   "cell_type": "code",
   "execution_count": 26,
   "metadata": {},
   "outputs": [
    {
     "name": "stdout",
     "output_type": "stream",
     "text": [
      "Hong is working in google\n",
      "Hong is  21 years old\n"
     ]
    },
    {
     "data": {
      "text/plain": [
       "4"
      ]
     },
     "execution_count": 26,
     "metadata": {},
     "output_type": "execute_result"
    }
   ],
   "source": [
    "hong = Person(\"Hong\",21)\n",
    "hong.working('google')\n",
    "hong.agrs()\n",
    "pack = Person(\"PACK\",20)\n",
    "Person.getCount()"
   ]
  },
  {
   "cell_type": "code",
   "execution_count": 27,
   "metadata": {},
   "outputs": [],
   "source": [
    "import numpy as np"
   ]
  },
  {
   "cell_type": "code",
   "execution_count": 30,
   "metadata": {},
   "outputs": [
    {
     "name": "stdout",
     "output_type": "stream",
     "text": [
      "A =>  [[1 2 3]\n",
      " [4 5 6]]  A.shape ==>  (2, 3)\n",
      "B =>  [[1 2]\n",
      " [3 4]\n",
      " [5 6]]  A.shape ==>  (3, 2)\n",
      "C =>  [[22 28]\n",
      " [49 64]]  A.shape ==>  (2, 2)\n"
     ]
    }
   ],
   "source": [
    "A = np.array([[1,2,3],[4,5,6]])\n",
    "B = np.array([[1,2],[3,4],[5,6]])\n",
    "C = np.dot(A,B)\n",
    "\n",
    "print('A => ',A,\" A.shape ==> \",A.shape)\n",
    "print('B => ',B,\" A.shape ==> \",B.shape)\n",
    "print('C => ',C,\" A.shape ==> \",C.shape)"
   ]
  }
 ],
 "metadata": {
  "kernelspec": {
   "display_name": "Python 3",
   "language": "python",
   "name": "python3"
  },
  "language_info": {
   "codemirror_mode": {
    "name": "ipython",
    "version": 3
   },
   "file_extension": ".py",
   "mimetype": "text/x-python",
   "name": "python",
   "nbconvert_exporter": "python",
   "pygments_lexer": "ipython3",
   "version": "3.6.10"
  }
 },
 "nbformat": 4,
 "nbformat_minor": 4
}
